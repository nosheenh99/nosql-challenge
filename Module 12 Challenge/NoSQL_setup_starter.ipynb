{
 "cells": [
  {
   "cell_type": "code",
   "execution_count": 1,
   "id": "7068a192",
   "metadata": {},
   "outputs": [
    {
     "data": {
      "text/html": [
       "<style>.container { width:100% !important; }</style>"
      ],
      "text/plain": [
       "<IPython.core.display.HTML object>"
      ]
     },
     "metadata": {},
     "output_type": "display_data"
    }
   ],
   "source": [
    "from IPython.display import display, HTML\n",
    "display(HTML(\"<style>.container { width:100% !important; }</style>\"))"
   ]
  },
  {
   "cell_type": "markdown",
   "id": "9a57c4c6",
   "metadata": {},
   "source": [
    "# Eat Safe, Love"
   ]
  },
  {
   "cell_type": "markdown",
   "id": "064ef857",
   "metadata": {},
   "source": [
    "## Part 1: Database and Jupyter Notebook Set Up"
   ]
  },
  {
   "cell_type": "markdown",
   "id": "664e3c1f",
   "metadata": {},
   "source": [
    "Import the data provided in the `establishments.json` file from your Terminal. Name the database `uk_food` and the collection `establishments`.\n",
    "\n",
    "Within this markdown cell, copy the line of text you used to import the data from your Terminal. This way, future analysts will be able to repeat your process.\n",
    "\n",
    "e.g.: Import the dataset with `YOUR IMPORT TEXT HERE`"
   ]
  },
  {
   "cell_type": "code",
   "execution_count": 25,
   "id": "3ecdd008",
   "metadata": {},
   "outputs": [],
   "source": [
    "# Import dependencies\n",
    "from bson.decimal128 import Decimal128\n",
    "\n",
    "from pymongo import MongoClient\n",
    "from pprint import pprint"
   ]
  },
  {
   "cell_type": "code",
   "execution_count": 3,
   "id": "59390c4a",
   "metadata": {},
   "outputs": [],
   "source": [
    "# Create an instance of MongoClient\n",
    "mongo = MongoClient(port=27017)"
   ]
  },
  {
   "cell_type": "markdown",
   "id": "94ef1929",
   "metadata": {},
   "source": [
    "#### The JSON file is formatted as an array, but mongoimport expects a series of individual JSON objects instead.\n",
    "\n",
    "- Reformat your JSON file so that it contains newline-delimited JSON objects. This format is sometimes referred to as JSONL or NDJSON."
   ]
  },
  {
   "cell_type": "code",
   "execution_count": 5,
   "id": "e900c0b9",
   "metadata": {},
   "outputs": [],
   "source": [
    "import json\n",
    "\n",
    "# Replace 'establishments.json' with your JSON file path\n",
    "input_filepath = 'Resources/establishments.json'\n",
    "\n",
    "# Output file path\n",
    "output_filepath = 'Resources/establishments.ndjson'\n",
    "\n",
    "with open(input_filepath, 'r', encoding='utf-8') as infile, open(output_filepath, 'w') as outfile:\n",
    "    data = json.load(infile)\n",
    "    for entry in data:\n",
    "        json.dump(entry, outfile)\n",
    "        outfile.write('\\n')"
   ]
  },
  {
   "cell_type": "markdown",
   "id": "525d4dab",
   "metadata": {},
   "source": [
    "#### Use the following command to import the JSON file into a new MongoDB database named \"uk_food\" and a new collection named \"establishments\":\n",
    "\n",
    "- Make sure mongodb tools are installed properly on your system\n",
    "- Run the terminal or command prompt as an administrator\n",
    "- mongoimport --db uk_food --collection establishments --file establishments.json\n"
   ]
  },
  {
   "cell_type": "code",
   "execution_count": null,
   "id": "b609e62e",
   "metadata": {},
   "outputs": [],
   "source": [
    "mongoimport --db uk_food --collection establishments --file establishments.json"
   ]
  },
  {
   "cell_type": "code",
   "execution_count": null,
   "id": "20c76a7b",
   "metadata": {},
   "outputs": [],
   "source": []
  },
  {
   "cell_type": "code",
   "execution_count": 6,
   "id": "7f9ececa",
   "metadata": {},
   "outputs": [
    {
     "data": {
      "text/plain": [
       "['admin', 'config', 'local', 'social_network_db', 'uk_food']"
      ]
     },
     "execution_count": 6,
     "metadata": {},
     "output_type": "execute_result"
    }
   ],
   "source": [
    "# confirm that our new database was created\n",
    "\n",
    "# Get a list of all database names\n",
    "db_list = mongo.list_database_names()\n",
    "db_list"
   ]
  },
  {
   "cell_type": "code",
   "execution_count": 7,
   "id": "71e373c1",
   "metadata": {},
   "outputs": [],
   "source": [
    "# assign the uk_food database to a variable name\n",
    "db = mongo['uk_food']"
   ]
  },
  {
   "cell_type": "code",
   "execution_count": 8,
   "id": "ef1b89ed",
   "metadata": {},
   "outputs": [
    {
     "data": {
      "text/plain": [
       "['establishments']"
      ]
     },
     "execution_count": 8,
     "metadata": {},
     "output_type": "execute_result"
    }
   ],
   "source": [
    "# review the collections in our new database\n",
    "collection_list = db.list_collection_names()\n",
    "collection_list"
   ]
  },
  {
   "cell_type": "code",
   "execution_count": 9,
   "id": "0e8f2b27",
   "metadata": {},
   "outputs": [],
   "source": [
    "# Get a reference to the establishments collection\n",
    "establishments_collection = db['establishments']"
   ]
  },
  {
   "cell_type": "code",
   "execution_count": 46,
   "id": "6a0d92df",
   "metadata": {},
   "outputs": [
    {
     "name": "stdout",
     "output_type": "stream",
     "text": [
      "{'AddressLine1': 'Wear Bay Road',\n",
      " 'AddressLine2': 'Folkestone',\n",
      " 'AddressLine3': 'Kent',\n",
      " 'AddressLine4': '',\n",
      " 'BusinessName': 'Wear Bay Bowls Club',\n",
      " 'BusinessType': 'Pub/bar/nightclub',\n",
      " 'BusinessTypeID': 7843,\n",
      " 'ChangesByServerID': 0,\n",
      " 'Distance': 4591.821311183521,\n",
      " 'FHRSID': 647177,\n",
      " 'LocalAuthorityBusinessID': 'PI/000041489',\n",
      " 'LocalAuthorityCode': '188',\n",
      " 'LocalAuthorityEmailAddress': 'foodteam@folkestone-hythe.gov.uk',\n",
      " 'LocalAuthorityName': 'Folkestone and Hythe',\n",
      " 'LocalAuthorityWebSite': 'http://www.folkestone-hythe.gov.uk',\n",
      " 'NewRatingPending': False,\n",
      " 'Phone': '',\n",
      " 'PostCode': 'CT19 6PY',\n",
      " 'RatingDate': '2014-03-31T00:00:00',\n",
      " 'RatingKey': 'fhrs_4_en-gb',\n",
      " 'RatingValue': 4,\n",
      " 'RightToReply': '',\n",
      " 'SchemeType': 'FHRS',\n",
      " '_id': ObjectId('65059ea2f548a69ecdf7004e'),\n",
      " 'geocode': {'latitude': Decimal128('51.086058'),\n",
      "             'longitude': Decimal128('1.196408')},\n",
      " 'links': [{'href': 'https://api.ratings.food.gov.uk/establishments/647177',\n",
      "            'rel': 'self'}],\n",
      " 'meta': {'dataSource': None,\n",
      "          'extractDate': '0001-01-01T00:00:00',\n",
      "          'itemCount': 0,\n",
      "          'pageNumber': 0,\n",
      "          'pageSize': 0,\n",
      "          'returncode': None,\n",
      "          'totalCount': 0,\n",
      "          'totalPages': 0},\n",
      " 'scores': {'ConfidenceInManagement': 10, 'Hygiene': 5, 'Structural': 5}}\n"
     ]
    }
   ],
   "source": [
    "# review a document in the establishments collection\n",
    "document = establishments_collection.find_one()\n",
    "pprint(document)"
   ]
  },
  {
   "cell_type": "code",
   "execution_count": 11,
   "id": "11c9f11b",
   "metadata": {},
   "outputs": [],
   "source": [
    "# assign the collection to a variable\n",
    "establishments = db['establishments']"
   ]
  },
  {
   "cell_type": "markdown",
   "id": "d5671434",
   "metadata": {},
   "source": [
    "## Part 2: Update the Database"
   ]
  },
  {
   "cell_type": "markdown",
   "id": "314bd884",
   "metadata": {},
   "source": [
    "#### 1. An exciting new halal restaurant just opened in Greenwich, but hasn't been rated yet. The magazine has asked you to include it in your analysis. Add the following restaurant \"Penang Flavours\" to the database."
   ]
  },
  {
   "cell_type": "code",
   "execution_count": 30,
   "id": "c2da7648",
   "metadata": {},
   "outputs": [],
   "source": [
    "# Create a dictionary for the new restaurant data\n",
    "penang_flavours = {\n",
    "     \"BusinessName\":\"Penang Flavours\",\n",
    "     \"BusinessType\":\"Restaurant/Cafe/Canteen\",\n",
    "     \"BusinessTypeID\":\"\",\n",
    "     \"AddressLine1\":\"Penang Flavours\",\n",
    "     \"AddressLine2\":\"146A Plumstead Rd\",\n",
    "     \"AddressLine3\":\"London\",\n",
    "     \"AddressLine4\":\"\",\n",
    "     \"PostCode\":\"SE18 7DY\",\n",
    "     \"Phone\":\"\",\n",
    "     \"LocalAuthorityCode\":\"511\",\n",
    "     \"LocalAuthorityName\":\"Greenwich\",\n",
    "     \"LocalAuthorityWebSite\":\"http://www.royalgreenwich.gov.uk\",\n",
    "     \"LocalAuthorityEmailAddress\":\"health@royalgreenwich.gov.uk\",\n",
    "     \"scores\":{\n",
    "         \"Hygiene\":\"\",\n",
    "         \"Structural\":\"\",\n",
    "         \"ConfidenceInManagement\":\"\"\n",
    "     },\n",
    "     \"SchemeType\":\"FHRS\",\n",
    "     \"geocode\":{\n",
    "         \"longitude\":\"0.08384000\",\n",
    "         \"latitude\":\"51.49014200\"\n",
    "     },\n",
    "     \"RightToReply\":\"\",\n",
    "     \"Distance\":4623.9723280747176,\n",
    "     \"NewRatingPending\":True\n",
    "}"
   ]
  },
  {
   "cell_type": "code",
   "execution_count": 31,
   "id": "a6e5cece",
   "metadata": {},
   "outputs": [
    {
     "data": {
      "text/plain": [
       "<pymongo.results.InsertOneResult at 0x1fa24255ae0>"
      ]
     },
     "execution_count": 31,
     "metadata": {},
     "output_type": "execute_result"
    }
   ],
   "source": [
    "# Insert the new restaurant into the collection\n",
    "db.establishments.insert_one(penang_flavours)"
   ]
  },
  {
   "cell_type": "code",
   "execution_count": 32,
   "id": "63bb10f9",
   "metadata": {},
   "outputs": [
    {
     "name": "stdout",
     "output_type": "stream",
     "text": [
      "The new restaurant was successfully inserted with the following details:\n",
      "{'AddressLine1': '123 Flavour Street',\n",
      " 'AddressLine2': 'Aroma Block',\n",
      " 'AddressLine3': 'Greenwich',\n",
      " 'AddressLine4': '',\n",
      " 'BusinessName': 'Penang Flavours',\n",
      " 'BusinessType': 'Restaurant/Cafe/Canteen',\n",
      " 'BusinessTypeID': 1,\n",
      " 'Distance': None,\n",
      " 'FHRSID': 999999,\n",
      " 'LocalAuthorityCode': '123',\n",
      " 'LocalAuthorityEmailAddress': 'contact@greenwich.gov.uk',\n",
      " 'LocalAuthorityName': 'Greenwich City Council',\n",
      " 'LocalAuthorityWebSite': 'https://www.greenwich.gov.uk',\n",
      " 'NewRatingPending': True,\n",
      " 'Phone': '1234567890',\n",
      " 'PostCode': 'GR12345',\n",
      " 'RatingDate': None,\n",
      " 'RatingKey': 'fhrs_not_rated_en-gb',\n",
      " 'RatingValue': None,\n",
      " 'RightToReply': '',\n",
      " 'SchemeType': 'FHRS',\n",
      " '_id': ObjectId('6505a178b3899b0c06d83ba5'),\n",
      " 'geocode': {'latitude': Decimal128('51.4831'),\n",
      "             'longitude': Decimal128('0.0134')},\n",
      " 'links': [{'href': 'https://www.penangflavours.co.uk', 'rel': 'self'}],\n",
      " 'meta': {'dataSource': None,\n",
      "          'extractDate': '2023-09-16T00:00:00',\n",
      "          'itemCount': 0,\n",
      "          'pageNumber': 0,\n",
      "          'pageSize': 0,\n",
      "          'returncode': None,\n",
      "          'totalCount': 0,\n",
      "          'totalPages': 0},\n",
      " 'scores': {'ConfidenceInManagement': None,\n",
      "            'Hygiene': None,\n",
      "            'Structural': None}}\n"
     ]
    }
   ],
   "source": [
    "# Check that the new restaurant was inserted\n",
    "result = db.establishments.find_one({\"BusinessName\": \"Penang Flavours\"})\n",
    "\n",
    "if result:\n",
    "    print(\"The new restaurant was successfully inserted with the following details:\")\n",
    "    pprint(result)\n",
    "else:\n",
    "    print(\"The restaurant was not found in the database.\")"
   ]
  },
  {
   "cell_type": "markdown",
   "id": "0ef4395a",
   "metadata": {},
   "source": [
    "#### 2. Find the BusinessTypeID for \"Restaurant/Cafe/Canteen\" and return only the `BusinessTypeID` and `BusinessType` fields."
   ]
  },
  {
   "cell_type": "code",
   "execution_count": 33,
   "id": "93c63829",
   "metadata": {},
   "outputs": [
    {
     "data": {
      "text/plain": [
       "{'BusinessType': 'Restaurant/Cafe/Canteen', 'BusinessTypeID': 1}"
      ]
     },
     "execution_count": 33,
     "metadata": {},
     "output_type": "execute_result"
    }
   ],
   "source": [
    "# Find the BusinessTypeID for \"Restaurant/Cafe/Canteen\" and return only the BusinessTypeID and BusinessType fields\n",
    "result = db.establishments.find_one(\n",
    "    {\"BusinessType\": \"Restaurant/Cafe/Canteen\"}, \n",
    "    {\"BusinessTypeID\": 1, \"BusinessType\": 1, \"_id\": 0}\n",
    ")\n",
    "\n",
    "# Since the query can return multiple documents, we use a loop to print each one\n",
    "result"
   ]
  },
  {
   "cell_type": "markdown",
   "id": "4e570caf",
   "metadata": {},
   "source": [
    "#### 3. Update the new restaurant with the `BusinessTypeID` you found."
   ]
  },
  {
   "cell_type": "code",
   "execution_count": 34,
   "id": "7f599f3d",
   "metadata": {},
   "outputs": [
    {
     "data": {
      "text/plain": [
       "<pymongo.results.UpdateResult at 0x1fa23fc73d0>"
      ]
     },
     "execution_count": 34,
     "metadata": {},
     "output_type": "execute_result"
    }
   ],
   "source": [
    "# Update the new restaurant with the correct BusinessTypeID\n",
    "db.establishments.update_one(\n",
    "    {\"BusinessName\": \"Penang Flavours\"}, \n",
    "    {\"$set\": {\"BusinessTypeID\": 1}}\n",
    ")"
   ]
  },
  {
   "cell_type": "code",
   "execution_count": 45,
   "id": "a6ad16f7",
   "metadata": {},
   "outputs": [
    {
     "name": "stdout",
     "output_type": "stream",
     "text": [
      "{'AddressLine1': '123 Flavour Street',\n",
      " 'AddressLine2': 'Aroma Block',\n",
      " 'AddressLine3': 'Greenwich',\n",
      " 'AddressLine4': '',\n",
      " 'BusinessName': 'Penang Flavours',\n",
      " 'BusinessType': 'Restaurant/Cafe/Canteen',\n",
      " 'BusinessTypeID': 1,\n",
      " 'Distance': None,\n",
      " 'FHRSID': 999999,\n",
      " 'LocalAuthorityCode': '123',\n",
      " 'LocalAuthorityEmailAddress': 'contact@greenwich.gov.uk',\n",
      " 'LocalAuthorityName': 'Greenwich City Council',\n",
      " 'LocalAuthorityWebSite': 'https://www.greenwich.gov.uk',\n",
      " 'NewRatingPending': True,\n",
      " 'Phone': '1234567890',\n",
      " 'PostCode': 'GR12345',\n",
      " 'RatingDate': None,\n",
      " 'RatingKey': 'fhrs_not_rated_en-gb',\n",
      " 'RatingValue': None,\n",
      " 'RightToReply': '',\n",
      " 'SchemeType': 'FHRS',\n",
      " '_id': ObjectId('6505a178b3899b0c06d83ba5'),\n",
      " 'geocode': {'latitude': Decimal128('51.4831'),\n",
      "             'longitude': Decimal128('0.0134')},\n",
      " 'links': [{'href': 'https://www.penangflavours.co.uk', 'rel': 'self'}],\n",
      " 'meta': {'dataSource': None,\n",
      "          'extractDate': '2023-09-16T00:00:00',\n",
      "          'itemCount': 0,\n",
      "          'pageNumber': 0,\n",
      "          'pageSize': 0,\n",
      "          'returncode': None,\n",
      "          'totalCount': 0,\n",
      "          'totalPages': 0},\n",
      " 'scores': {'ConfidenceInManagement': None,\n",
      "            'Hygiene': None,\n",
      "            'Structural': None}}\n"
     ]
    }
   ],
   "source": [
    "# Confirm that the new restaurant was updated\n",
    "updated_restaurant = db.establishments.find_one(\n",
    "    {\"BusinessName\": \"Penang Flavours\"}, \n",
    ")\n",
    "\n",
    "pprint(updated_restaurant)"
   ]
  },
  {
   "cell_type": "markdown",
   "id": "67281254",
   "metadata": {},
   "source": [
    "#### 4. The magazine is not interested in any establishments in Dover, so check how many documents contain the Dover Local Authority. Then, remove any establishments within the Dover Local Authority from the database, and check the number of documents to ensure they were deleted."
   ]
  },
  {
   "cell_type": "code",
   "execution_count": 36,
   "id": "768474a6",
   "metadata": {},
   "outputs": [
    {
     "name": "stdout",
     "output_type": "stream",
     "text": [
      "There are 0 documents with the LocalAuthorityName \"Dover\".\n"
     ]
    }
   ],
   "source": [
    "# Find how many documents have LocalAuthorityName as \"Dover\"\n",
    "dover_count = db.establishments.count_documents({\"LocalAuthorityName\": \"Dover\"})\n",
    "print(f'There are {dover_count} documents with the LocalAuthorityName \"Dover\".')"
   ]
  },
  {
   "cell_type": "code",
   "execution_count": 37,
   "id": "a11d5f1b",
   "metadata": {},
   "outputs": [
    {
     "name": "stdout",
     "output_type": "stream",
     "text": [
      "Deleted 0 documents with the LocalAuthorityName \"Dover\".\n"
     ]
    }
   ],
   "source": [
    "# Delete all documents where LocalAuthorityName is \"Dover\"\n",
    "delete_result = db.establishments.delete_many({\"LocalAuthorityName\": \"Dover\"})\n",
    "\n",
    "# Print the number of documents deleted\n",
    "print(f'Deleted {delete_result.deleted_count} documents with the LocalAuthorityName \"Dover\".')"
   ]
  },
  {
   "cell_type": "code",
   "execution_count": 38,
   "id": "2a51aba0",
   "metadata": {},
   "outputs": [
    {
     "name": "stdout",
     "output_type": "stream",
     "text": [
      "No documents found with the LocalAuthorityName 'Dover'.\n"
     ]
    }
   ],
   "source": [
    "# Check if any remaining documents include Dover\n",
    "dover_count = db.establishments.count_documents({\"LocalAuthorityName\": \"Dover\"})\n",
    "\n",
    "# Print the count of documents with LocalAuthorityName \"Dover\"\n",
    "if dover_count == 0:\n",
    "    print(\"No documents found with the LocalAuthorityName 'Dover'.\")\n",
    "else:\n",
    "    print(f'Found {dover_count} documents with the LocalAuthorityName \"Dover\".')"
   ]
  },
  {
   "cell_type": "code",
   "execution_count": 44,
   "id": "8c356f7b",
   "metadata": {},
   "outputs": [
    {
     "name": "stdout",
     "output_type": "stream",
     "text": [
      "Found a document in the collection:\n",
      "\n",
      "{'AddressLine1': 'Wear Bay Road',\n",
      " 'AddressLine2': 'Folkestone',\n",
      " 'AddressLine3': 'Kent',\n",
      " 'AddressLine4': '',\n",
      " 'BusinessName': 'Wear Bay Bowls Club',\n",
      " 'BusinessType': 'Pub/bar/nightclub',\n",
      " 'BusinessTypeID': 7843,\n",
      " 'ChangesByServerID': 0,\n",
      " 'Distance': 4591.821311183521,\n",
      " 'FHRSID': 647177,\n",
      " 'LocalAuthorityBusinessID': 'PI/000041489',\n",
      " 'LocalAuthorityCode': '188',\n",
      " 'LocalAuthorityEmailAddress': 'foodteam@folkestone-hythe.gov.uk',\n",
      " 'LocalAuthorityName': 'Folkestone and Hythe',\n",
      " 'LocalAuthorityWebSite': 'http://www.folkestone-hythe.gov.uk',\n",
      " 'NewRatingPending': False,\n",
      " 'Phone': '',\n",
      " 'PostCode': 'CT19 6PY',\n",
      " 'RatingDate': '2014-03-31T00:00:00',\n",
      " 'RatingKey': 'fhrs_4_en-gb',\n",
      " 'RatingValue': 4,\n",
      " 'RightToReply': '',\n",
      " 'SchemeType': 'FHRS',\n",
      " '_id': ObjectId('65059ea2f548a69ecdf7004e'),\n",
      " 'geocode': {'latitude': Decimal128('51.086058'),\n",
      "             'longitude': Decimal128('1.196408')},\n",
      " 'links': [{'href': 'https://api.ratings.food.gov.uk/establishments/647177',\n",
      "            'rel': 'self'}],\n",
      " 'meta': {'dataSource': None,\n",
      "          'extractDate': '0001-01-01T00:00:00',\n",
      "          'itemCount': 0,\n",
      "          'pageNumber': 0,\n",
      "          'pageSize': 0,\n",
      "          'returncode': None,\n",
      "          'totalCount': 0,\n",
      "          'totalPages': 0},\n",
      " 'scores': {'ConfidenceInManagement': 10, 'Hygiene': 5, 'Structural': 5}}\n"
     ]
    }
   ],
   "source": [
    "# Check that other documents remain with 'find_one'\n",
    "one_document = db.establishments.find_one()\n",
    "\n",
    "# Print the found document\n",
    "if one_document:\n",
    "    print(\"Found a document in the collection:\\n\")\n",
    "    pprint(one_document)\n",
    "else:\n",
    "    print(\"No documents found in the collection.\")"
   ]
  },
  {
   "cell_type": "markdown",
   "id": "e9f1662d",
   "metadata": {},
   "source": [
    "#### 5. Some of the number values are stored as strings, when they should be stored as numbers."
   ]
  },
  {
   "cell_type": "markdown",
   "id": "c46df2df",
   "metadata": {},
   "source": [
    "- Use `update_many` to convert `latitude` and `longitude` to decimal numbers."
   ]
  },
  {
   "cell_type": "code",
   "execution_count": 40,
   "id": "fd4112ce",
   "metadata": {},
   "outputs": [],
   "source": [
    "# Change the data type from String to Decimal for longitude and latitude\n",
    "\n",
    "# Find all documents with latitude and longitude as strings\n",
    "documents = db.establishments.find({'geocode.latitude': {'$type': 'string'}, 'geocode.longitude': {'$type': 'string'}})\n",
    "\n",
    "# Loop through all the documents and update the latitude and longitude fields to decimal\n",
    "for doc in documents:\n",
    "    latitude = Decimal128(str(doc['geocode']['latitude']))\n",
    "    longitude = Decimal128(str(doc['geocode']['longitude']))\n",
    "\n",
    "    # Update the document with the new decimal latitude and longitude\n",
    "    db.establishments.update_one({'_id': doc['_id']}, {'$set': {'geocode.latitude': latitude, 'geocode.longitude': longitude}})"
   ]
  },
  {
   "cell_type": "markdown",
   "id": "142e319c",
   "metadata": {},
   "source": [
    "- Use `update_many` to convert `RatingValue` to integer numbers."
   ]
  },
  {
   "cell_type": "code",
   "execution_count": 41,
   "id": "04430a5b",
   "metadata": {},
   "outputs": [
    {
     "data": {
      "text/plain": [
       "<pymongo.results.UpdateResult at 0x1fa23fc65f0>"
      ]
     },
     "execution_count": 41,
     "metadata": {},
     "output_type": "execute_result"
    }
   ],
   "source": [
    "# Set non 1-5 Rating Values to Null\n",
    "non_ratings = [\"AwaitingInspection\", \"Awaiting Inspection\", \"AwaitingPublication\", \"Pass\", \"Exempt\"]\n",
    "establishments.update_many({\"RatingValue\": {\"$in\": non_ratings}}, [ {'$set':{ \"RatingValue\" : None}} ])"
   ]
  },
  {
   "cell_type": "code",
   "execution_count": 42,
   "id": "92524ccc",
   "metadata": {},
   "outputs": [],
   "source": [
    "# Change the data type from String to Integer for RatingValue\n",
    "\n",
    "# Find all documents with RatingValue as strings and not in non_ratings list\n",
    "documents = db.establishments.find({'RatingValue': {'$type': 'string', '$nin': non_ratings}})\n",
    "\n",
    "for doc in documents:\n",
    "    try:\n",
    "        # Convert RatingValue to integer\n",
    "        rating_value = int(doc['RatingValue'])\n",
    "\n",
    "    except ValueError:\n",
    "        # If conversion fails, set rating_value to None\n",
    "        rating_value = None\n",
    "\n",
    "    # Update the document with the new integer RatingValue\n",
    "    db.establishments.update_one({'_id': doc['_id']}, {'$set': {'RatingValue': rating_value}})"
   ]
  },
  {
   "cell_type": "code",
   "execution_count": 43,
   "id": "0deacaf9",
   "metadata": {},
   "outputs": [
    {
     "name": "stdout",
     "output_type": "stream",
     "text": [
      "Data type of 'latitude': <class 'bson.decimal128.Decimal128'>\n",
      "Data type of 'longitude': <class 'bson.decimal128.Decimal128'>\n",
      "Data type of 'RatingValue': <class 'int'>\n"
     ]
    }
   ],
   "source": [
    "# Check that the coordinates and rating value are now numbers\n",
    "\n",
    "# Fetch a sample document\n",
    "document = db.establishments.find_one()\n",
    "\n",
    "# Print the data types of the fields\n",
    "if document:\n",
    "    latitude = document.get('geocode', {}).get('latitude')\n",
    "    longitude = document.get('geocode', {}).get('longitude')\n",
    "    rating_value = document.get('RatingValue')\n",
    "    \n",
    "    print(f\"Data type of 'latitude': {type(latitude)}\")\n",
    "    print(f\"Data type of 'longitude': {type(longitude)}\")\n",
    "    print(f\"Data type of 'RatingValue': {type(rating_value)}\")\n",
    "\n",
    "else:\n",
    "    print(\"No document found\")"
   ]
  },
  {
   "cell_type": "code",
   "execution_count": null,
   "id": "ecc9c6d1",
   "metadata": {},
   "outputs": [],
   "source": []
  }
 ],
 "metadata": {
  "kernelspec": {
   "display_name": "Python 3 (ipykernel)",
   "language": "python",
   "name": "python3"
  },
  "language_info": {
   "codemirror_mode": {
    "name": "ipython",
    "version": 3
   },
   "file_extension": ".py",
   "mimetype": "text/x-python",
   "name": "python",
   "nbconvert_exporter": "python",
   "pygments_lexer": "ipython3",
   "version": "3.11.3"
  }
 },
 "nbformat": 4,
 "nbformat_minor": 5
}
